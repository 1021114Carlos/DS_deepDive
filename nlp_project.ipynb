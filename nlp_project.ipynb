{
  "nbformat": 4,
  "nbformat_minor": 0,
  "metadata": {
    "colab": {
      "private_outputs": true,
      "provenance": [],
      "gpuType": "T4",
      "authorship_tag": "ABX9TyP8FDX75tAIU0I5uq2ybhZz",
      "include_colab_link": true
    },
    "kernelspec": {
      "name": "python3",
      "display_name": "Python 3"
    },
    "language_info": {
      "name": "python"
    },
    "accelerator": "GPU"
  },
  "cells": [
    {
      "cell_type": "markdown",
      "metadata": {
        "id": "view-in-github",
        "colab_type": "text"
      },
      "source": [
        "<a href=\"https://colab.research.google.com/github/1021114Carlos/DS_deepDive/blob/diving_production/nlp_project.ipynb\" target=\"_parent\"><img src=\"https://colab.research.google.com/assets/colab-badge.svg\" alt=\"Open In Colab\"/></a>"
      ]
    },
    {
      "cell_type": "code",
      "execution_count": null,
      "metadata": {
        "id": "8CL-5no94bt7"
      },
      "outputs": [],
      "source": [
        "from sklearn.feature_extraction.text import CountVectorizer as BagOfWords\n",
        "from sklearn.feature_extraction.text import TfidfTransformer\n",
        "from sklearn.feature_extraction.text import TfidfVectorizer\n",
        "from sklearn.neighbors import NearestNeighbors\n",
        "from textblob import TextBlob\n",
        "import pickle"
      ]
    },
    {
      "cell_type": "code",
      "source": [
        "import pandas as pd\n",
        "import numpy as np"
      ],
      "metadata": {
        "id": "QxyLc3sHpaoS"
      },
      "execution_count": null,
      "outputs": []
    },
    {
      "cell_type": "code",
      "source": [
        "%%capture\n",
        "!python -m textblob.download_corpora"
      ],
      "metadata": {
        "id": "8xri7CcceZX6"
      },
      "execution_count": null,
      "outputs": []
    },
    {
      "cell_type": "code",
      "source": [
        "nlp_df = pd.read_csv(\" https://ddc-datascience.s3.amazonaws.com/Projects/Project.5-NLP/Data/NLP.csv\")"
      ],
      "metadata": {
        "id": "27Cbn-0cp4ja"
      },
      "execution_count": null,
      "outputs": []
    },
    {
      "cell_type": "code",
      "source": [
        "nlp_df"
      ],
      "metadata": {
        "id": "CdNh2Zvux7Qc"
      },
      "execution_count": null,
      "outputs": []
    },
    {
      "cell_type": "code",
      "source": [
        "nlp_df.shape"
      ],
      "metadata": {
        "id": "8yS5sB6Qx-kb"
      },
      "execution_count": null,
      "outputs": []
    },
    {
      "cell_type": "code",
      "source": [
        "nlp_df.info()"
      ],
      "metadata": {
        "id": "1BVZLvDnekLE"
      },
      "execution_count": null,
      "outputs": []
    },
    {
      "cell_type": "code",
      "source": [
        "nlp_df.value_counts();"
      ],
      "metadata": {
        "id": "cEHAWXYBenOs"
      },
      "execution_count": null,
      "outputs": []
    },
    {
      "cell_type": "code",
      "source": [
        "nlp_df.duplicated().value_counts()"
      ],
      "metadata": {
        "id": "juqLUOx7eqSO"
      },
      "execution_count": null,
      "outputs": []
    },
    {
      "cell_type": "code",
      "source": [
        "nlp_df.describe()"
      ],
      "metadata": {
        "id": "kuGOHI7BetIe"
      },
      "execution_count": null,
      "outputs": []
    },
    {
      "cell_type": "code",
      "source": [
        "nlp_df.isnull().sum()"
      ],
      "metadata": {
        "id": "O4a3_PltezhQ"
      },
      "execution_count": null,
      "outputs": []
    },
    {
      "cell_type": "code",
      "source": [
        "# Making copy of dataframe.\n",
        "nlp_df_copy = nlp_df.copy()"
      ],
      "metadata": {
        "id": "QdFVs84He3_t"
      },
      "execution_count": null,
      "outputs": []
    },
    {
      "cell_type": "code",
      "source": [
        "# URI column provides links to external sites containing the same information. Drop this column.\n",
        "\n",
        "nlp_df_copy.drop(columns=\"URI\")"
      ],
      "metadata": {
        "id": "r2eG_ExBfBLM"
      },
      "execution_count": null,
      "outputs": []
    },
    {
      "cell_type": "code",
      "source": [
        "# nlp_df_copy['tb'] = nlp_df_copy['text'].apply(TextBlob)\n",
        "# l = nlp_df_copy['tb'][:20000].apply(lambda x: [x.singularize() for x in x.words])\n",
        "# pickle.dump(l, open('pickle_part_1.p','wb'))\n",
        "# import pickle\n",
        "# %reset -f\n",
        "# l = pickle.load(open('pickle_part_1.p','rb'))"
      ],
      "metadata": {
        "id": "IDPhl_LPfKGj"
      },
      "execution_count": null,
      "outputs": []
    },
    {
      "cell_type": "code",
      "source": [
        "# nlp_df_copy['tb'] = nlp_df_copy['text'].apply(TextBlob)\n",
        "# a = nlp_df_copy['tb'][20000:].apply(lambda x: [x.singularize() for x in x.words])\n",
        "# pickle.dump(a, open('pickle_part_2.p','wb'))\n",
        "# %reset -f\n",
        "# a = pickle.load(open('pickle_part_2.p','rb'))"
      ],
      "metadata": {
        "id": "sfEHAfPKfNi4"
      },
      "execution_count": null,
      "outputs": []
    },
    {
      "cell_type": "code",
      "source": [
        "nlp_df_copy['input'] = 'TEXT1: ' + nlp_df_copy.name + '; TEXT2: ' + nlp_df_copy.text;"
      ],
      "metadata": {
        "id": "fMm9GUXhriw6"
      },
      "execution_count": null,
      "outputs": []
    },
    {
      "cell_type": "code",
      "source": [
        "nlp_df_copy.input.head()"
      ],
      "metadata": {
        "id": "CFI7Ujmer3Mr"
      },
      "execution_count": null,
      "outputs": []
    },
    {
      "cell_type": "code",
      "source": [
        "Bag_of_Words = BagOfWords(stop_words = 'english')\n",
        "word_vector = Bag_of_Words.fit_transform(singularized.str.join(', '))"
      ],
      "metadata": {
        "id": "FysBd2ZBsH3c"
      },
      "execution_count": null,
      "outputs": []
    },
    {
      "cell_type": "code",
      "source": [],
      "metadata": {
        "id": "SFug3U_Mtj3f"
      },
      "execution_count": null,
      "outputs": []
    }
  ]
}